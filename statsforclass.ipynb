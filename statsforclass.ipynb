{
  "nbformat": 4,
  "nbformat_minor": 0,
  "metadata": {
    "colab": {
      "name": "Untitled2.ipynb",
      "provenance": [],
      "authorship_tag": "ABX9TyOxCTIIWc5+H05WAs+DTeXs",
      "include_colab_link": true
    },
    "kernelspec": {
      "name": "python3",
      "display_name": "Python 3"
    },
    "language_info": {
      "name": "python"
    }
  },
  "cells": [
    {
      "cell_type": "markdown",
      "metadata": {
        "id": "view-in-github",
        "colab_type": "text"
      },
      "source": [
        "<a href=\"https://colab.research.google.com/github/evanadams/classwork/blob/statsforclass/statsforclass.ipynb\" target=\"_parent\"><img src=\"https://colab.research.google.com/assets/colab-badge.svg\" alt=\"Open In Colab\"/></a>"
      ]
    },
    {
      "cell_type": "code",
      "metadata": {
        "id": "fj1pmYm9cbKr"
      },
      "source": [
        "import numpy as np\n",
        "import pandas as pd\n",
        "from scipy import stats\n",
        "import matplotlib"
      ],
      "execution_count": null,
      "outputs": []
    },
    {
      "cell_type": "code",
      "metadata": {
        "colab": {
          "base_uri": "https://localhost:8080/"
        },
        "id": "QxKbOomj3Kzf",
        "outputId": "23e3ff45-a41b-4908-cab2-45857bd05b76"
      },
      "source": [
        "rand_num = np.random.rand(100)\n",
        "print(rand_num)"
      ],
      "execution_count": null,
      "outputs": [
        {
          "output_type": "stream",
          "name": "stdout",
          "text": [
            "[0.87553388 0.75237976 0.30423155 0.6957818  0.19590881 0.96226645\n",
            " 0.33957718 0.39571714 0.9920461  0.58158199 0.81520218 0.55047738\n",
            " 0.54820889 0.5573608  0.9923872  0.17125161 0.540859   0.4528571\n",
            " 0.9521548  0.54989724 0.92915909 0.26743528 0.79078418 0.96759759\n",
            " 0.66914972 0.12038849 0.79720986 0.78373483 0.28229195 0.6237585\n",
            " 0.08713793 0.66946272 0.21257262 0.19270778 0.76678045 0.22422605\n",
            " 0.17614662 0.8751273  0.51827385 0.80788213 0.1812342  0.40148362\n",
            " 0.72596574 0.00140206 0.76012445 0.60926744 0.07688995 0.07043466\n",
            " 0.97548885 0.1899926  0.31776204 0.38345498 0.64401971 0.10869085\n",
            " 0.30184882 0.89499556 0.81909076 0.95148485 0.55906264 0.75867777\n",
            " 0.96138157 0.07389135 0.40445054 0.81211256 0.62316208 0.41671456\n",
            " 0.90236711 0.70628193 0.15960032 0.58441877 0.28931571 0.16589094\n",
            " 0.19921836 0.99897422 0.73329384 0.80493467 0.0855228  0.02111176\n",
            " 0.53133195 0.82571307 0.43162957 0.40660681 0.09349106 0.99624699\n",
            " 0.83595977 0.41496277 0.5109849  0.46924549 0.3716782  0.47350081\n",
            " 0.01102036 0.64883218 0.70643671 0.97845754 0.85015788 0.23595267\n",
            " 0.83996311 0.26276799 0.31521855 0.14034993]\n"
          ]
        }
      ]
    },
    {
      "cell_type": "code",
      "metadata": {
        "colab": {
          "base_uri": "https://localhost:8080/",
          "height": 198
        },
        "id": "wKtAoxpN4SKH",
        "outputId": "e16f800b-38c6-4414-e0ae-147e050b5755"
      },
      "source": [
        "mean = rand_num.mean()\n",
        "medain = np.median(rand_num)\n",
        "mode = scipy.stats.mode(rand_num)\n"
      ],
      "execution_count": null,
      "outputs": [
        {
          "output_type": "error",
          "ename": "NameError",
          "evalue": "ignored",
          "traceback": [
            "\u001b[0;31m---------------------------------------------------------------------------\u001b[0m",
            "\u001b[0;31mNameError\u001b[0m                                 Traceback (most recent call last)",
            "\u001b[0;32m<ipython-input-19-77898b7f2013>\u001b[0m in \u001b[0;36m<module>\u001b[0;34m()\u001b[0m\n\u001b[1;32m      2\u001b[0m \u001b[0mmedain\u001b[0m \u001b[0;34m=\u001b[0m \u001b[0mnp\u001b[0m\u001b[0;34m.\u001b[0m\u001b[0mmedian\u001b[0m\u001b[0;34m(\u001b[0m\u001b[0mrand_num\u001b[0m\u001b[0;34m)\u001b[0m\u001b[0;34m\u001b[0m\u001b[0;34m\u001b[0m\u001b[0m\n\u001b[1;32m      3\u001b[0m \u001b[0mmode\u001b[0m \u001b[0;34m=\u001b[0m \u001b[0mscipy\u001b[0m\u001b[0;34m.\u001b[0m\u001b[0mstats\u001b[0m\u001b[0;34m.\u001b[0m\u001b[0mmode\u001b[0m\u001b[0;34m(\u001b[0m\u001b[0mrand_num\u001b[0m\u001b[0;34m)\u001b[0m\u001b[0;34m\u001b[0m\u001b[0;34m\u001b[0m\u001b[0m\n\u001b[0;32m----> 4\u001b[0;31m \u001b[0mprint\u001b[0m\u001b[0;34m(\u001b[0m\u001b[0mmean\u001b[0m\u001b[0;34m,\u001b[0m \u001b[0mmedian\u001b[0m\u001b[0;34m,\u001b[0m \u001b[0mmode\u001b[0m\u001b[0;34m)\u001b[0m\u001b[0;34m\u001b[0m\u001b[0;34m\u001b[0m\u001b[0m\n\u001b[0m",
            "\u001b[0;31mNameError\u001b[0m: name 'median' is not defined"
          ]
        }
      ]
    }
  ]
}