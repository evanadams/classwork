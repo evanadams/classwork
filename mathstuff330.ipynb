{
  "nbformat": 4,
  "nbformat_minor": 0,
  "metadata": {
    "colab": {
      "name": "mathstuff330.ipynb",
      "provenance": [],
      "authorship_tag": "ABX9TyN8Eaembrr+uWYr8fxdasl0",
      "include_colab_link": true
    },
    "kernelspec": {
      "name": "python3",
      "display_name": "Python 3"
    },
    "language_info": {
      "name": "python"
    }
  },
  "cells": [
    {
      "cell_type": "markdown",
      "metadata": {
        "id": "view-in-github",
        "colab_type": "text"
      },
      "source": [
        "<a href=\"https://colab.research.google.com/github/evanadams/classwork/blob/main/mathstuff330.ipynb\" target=\"_parent\"><img src=\"https://colab.research.google.com/assets/colab-badge.svg\" alt=\"Open In Colab\"/></a>"
      ]
    },
    {
      "cell_type": "code",
      "metadata": {
        "id": "fj1pmYm9cbKr"
      },
      "source": [
        "import numpy as np\n",
        "import pandas as pd\n",
        "from scipy import stats\n",
        "from scipy import signal\n",
        "import scipy\n",
        "import matplotlib\n",
        "import matplotlib.pyplot as plt\n",
        "import seaborn as sns\n",
        "import sklearn\n"
      ],
      "execution_count": null,
      "outputs": []
    },
    {
      "cell_type": "code",
      "metadata": {
        "id": "QxKbOomj3Kzf"
      },
      "source": [
        "rand_num = np.random.rand(100)\n",
        "rand_num_other = np.random.rand(100)\n",
        "print(rand_num)"
      ],
      "execution_count": null,
      "outputs": []
    },
    {
      "cell_type": "code",
      "metadata": {
        "id": "wKtAoxpN4SKH"
      },
      "source": [
        "mean = rand_num.mean()\n",
        "median = np.median(rand_num)\n",
        "mode = scipy.stats.mode(rand_num)\n",
        "std = np.std(rand_num)\n",
        "other_mean = scipy.stats.median_absolute_deviation(rand_num)\n",
        "variance = scipy.ndimage.variance(rand_num)\n",
        "correlation = np.corrcoef(rand_num, rand_num_other)\n",
        "r, p = scipy.stats.pearsonr(rand_num, rand_num_other)\n",
        "#print(\" std dev- \",std, \"\\n mode- \", mode, \"\\n median- \", median,\"\\n mean- \",\n",
        "#      mean, \"\\n median absolute devaition-\", other_mean\n",
        "#      ,\"'\\n variance\", variance,)\n",
        "plt.scatter(rand_num, rand_num_other)\n",
        "log= np.log(rand_num)\n",
        "print(\" log- \", log)\n",
        "np.exp(log)"
      ],
      "execution_count": null,
      "outputs": []
    },
    {
      "cell_type": "code",
      "metadata": {
        "colab": {
          "base_uri": "https://localhost:8080/",
          "height": 299
        },
        "id": "xemcAzCcZwQn",
        "outputId": "bb45e798-e0e2-4177-ad54-e9b0fb377ac2"
      },
      "source": [
        "x = np.random.rand(100)\n",
        "y = np.random.rand(100)\n",
        "z = x + y\n",
        "\n",
        "model = LinearRegression().fit(x.reshape(-1,1), y.reshape(-1,1))\n",
        "\n",
        "\n",
        "r = model.score(x.reshape(-1,1), y.reshape(-1,1))\n",
        "print(r)\n",
        "\n",
        "modeled_y = model.predict(x.reshape(-1,1))\n",
        "plt.scatter(x, modeled_y)"
      ],
      "execution_count": null,
      "outputs": [
        {
          "output_type": "stream",
          "name": "stdout",
          "text": [
            "0.0005148563389422156\n"
          ]
        },
        {
          "output_type": "execute_result",
          "data": {
            "text/plain": [
              "<matplotlib.collections.PathCollection at 0x7f8dd7f9df10>"
            ]
          },
          "metadata": {},
          "execution_count": 41
        },
        {
          "output_type": "display_data",
          "data": {
            "image/png": "[encoded data removed]",
            "text/plain": [
              "<Figure size 432x288 with 1 Axes>"
            ]
          },
          "metadata": {
            "needs_background": "light"
          }
        }
      ]
    }
  ]
}