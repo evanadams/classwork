{
  "nbformat": 4,
  "nbformat_minor": 0,
  "metadata": {
    "colab": {
      "name": "basicdatacleaing.ipynb",
      "provenance": [],
      "authorship_tag": "ABX9TyOY22yF5HIB7hliQZRgTDe7",
      "include_colab_link": true
    },
    "kernelspec": {
      "name": "python3",
      "display_name": "Python 3"
    },
    "language_info": {
      "name": "python"
    }
  },
  "cells": [
    {
      "cell_type": "markdown",
      "metadata": {
        "id": "view-in-github",
        "colab_type": "text"
      },
      "source": [
        "<a href=\"https://colab.research.google.com/github/evanadams/classwork/blob/main/basicdatacleaing.ipynb\" target=\"_parent\"><img src=\"https://colab.research.google.com/assets/colab-badge.svg\" alt=\"Open In Colab\"/></a>"
      ]
    },
    {
      "cell_type": "code",
      "metadata": {
        "id": "AGz_MclEFWt7"
      },
      "source": [
        "import pandas as pd\n",
        "import numpy as np"
      ],
      "execution_count": null,
      "outputs": []
    },
    {
      "cell_type": "code",
      "metadata": {
        "id": "kklPspo8F2eh"
      },
      "source": [
        "data = pd.read_csv(\"https://github.com/realpython/python-data-cleaning/raw/master/Datasets/BL-Flickr-Images-Book.csv\")\n",
        "\n",
        "data['Corporate Author'].isna().value_counts()/len(data)\n",
        "\n",
        "data['Former owner'].isna().value_counts()/len(data)\n",
        "\n",
        "to_drop = ['Edition Statement', 'Corporate Author', 'Corporate Contributors',\t'Former owner',\t'Engraver']\n",
        "data = data.drop(columns=to_drop)\n",
        "\n",
        "data.set_index('Identifier', inplace=True)\n",
        "\n",
        "regex = r'^(\\d{4})'\n",
        "\n",
        "dataextr = data['Date of Publication'].str.extract(regex, expand=False)\n",
        "\n",
        "data[\"Date of Publication\"] = pd.to_numeric(dataextr)\n",
        "\n",
        "data[\"Date of Publication\"].isnull().sum()/len(data)\n",
        "\n",
        "datapop = data[\"Place of Publication\"]\n",
        "\n",
        "london = datapop.str.contains('London')\n",
        "\n",
        "oxford = datapop.str.contains('Oxford')\n",
        "\n",
        "data['Place of Publication'] = np.where(london, \"London\", \n",
        "                                        np.where(oxford, 'Oxford', \n",
        "                                                 datapop.str.replace('-', ' ')))\n",
        "data['Place of Publication'].head(25)"
      ],
      "execution_count": null,
      "outputs": []
    },
    {
      "cell_type": "code",
      "metadata": {
        "colab": {
          "base_uri": "https://localhost:8080/"
        },
        "id": "d6q0I2wFr9IQ",
        "outputId": "fe5b134d-a5b9-40e5-c0c2-44686f6d59df"
      },
      "source": [
        "uni_towns = []\n",
        "with open(\"/content/university_towns.txt\") as file:\n",
        "  for line in file: \n",
        "    if '[edit]' in line:\n",
        "      state = license\n",
        "    else:\n",
        "      uni_towns.append((state, line))\n",
        "\n",
        "uni_towns[:5]"
      ],
      "execution_count": null,
      "outputs": [
        {
          "output_type": "execute_result",
          "data": {
            "text/plain": [
              "[(Type license() to see the full license text,\n",
              "  'Auburn (Auburn University)[1]\\n'),\n",
              " (Type license() to see the full license text,\n",
              "  'Florence (University of North Alabama)\\n'),\n",
              " (Type license() to see the full license text,\n",
              "  'Jacksonville (Jacksonville State University)[2]\\n'),\n",
              " (Type license() to see the full license text,\n",
              "  'Livingston (University of West Alabama)[2]\\n'),\n",
              " (Type license() to see the full license text,\n",
              "  'Montevallo (University of Montevallo)[2]\\n')]"
            ]
          },
          "metadata": {},
          "execution_count": 26
        }
      ]
    }
  ]
}